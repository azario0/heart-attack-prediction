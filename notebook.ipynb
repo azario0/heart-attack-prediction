{
 "cells": [
  {
   "cell_type": "markdown",
   "metadata": {},
   "source": [
    "# Le lien vers le dataset\n",
    "https://www.kaggle.com/datasets/fedesoriano/heart-failure-prediction/data"
   ]
  },
  {
   "cell_type": "markdown",
   "metadata": {},
   "source": [
    "# On commance en important les librairies"
   ]
  },
  {
   "cell_type": "code",
   "execution_count": 39,
   "metadata": {},
   "outputs": [],
   "source": [
    "import pandas as pd \n",
    "\n",
    "from sklearn.model_selection import train_test_split\n",
    "from sklearn.metrics import confusion_matrix\n",
    "from sklearn.metrics import accuracy_score\n",
    "from sklearn.linear_model import LogisticRegression\n",
    "from sklearn.preprocessing import LabelEncoder\n",
    "from sklearn.preprocessing import MinMaxScaler,StandardScaler\n",
    "import pickle\n",
    "\n",
    "import numpy as np \n",
    "import seaborn as sns\n",
    "\n"
   ]
  },
  {
   "cell_type": "markdown",
   "metadata": {},
   "source": [
    "# Lecture du fichier"
   ]
  },
  {
   "cell_type": "code",
   "execution_count": 40,
   "metadata": {},
   "outputs": [],
   "source": [
    "df = pd.read_csv(\"heart.csv\")"
   ]
  },
  {
   "cell_type": "markdown",
   "metadata": {},
   "source": [
    "# On verifier s'il ya des valeurs null"
   ]
  },
  {
   "cell_type": "code",
   "execution_count": 4,
   "metadata": {},
   "outputs": [
    {
     "data": {
      "text/plain": [
       "Age               0\n",
       "Sex               0\n",
       "ChestPainType     0\n",
       "RestingBP         0\n",
       "Cholesterol       0\n",
       "FastingBS         0\n",
       "RestingECG        0\n",
       "MaxHR             0\n",
       "ExerciseAngina    0\n",
       "Oldpeak           0\n",
       "ST_Slope          0\n",
       "HeartDisease      0\n",
       "dtype: int64"
      ]
     },
     "execution_count": 4,
     "metadata": {},
     "output_type": "execute_result"
    }
   ],
   "source": [
    "df.isnull().sum()"
   ]
  },
  {
   "cell_type": "markdown",
   "metadata": {},
   "source": [
    "# On scale les colones , on cree le classifieur et on le test"
   ]
  },
  {
   "cell_type": "code",
   "execution_count": 37,
   "metadata": {},
   "outputs": [
    {
     "name": "stdout",
     "output_type": "stream",
     "text": [
      "Accuracy :  84.24%\n"
     ]
    },
    {
     "data": {
      "image/png": "[encoded data removed]",
      "text/plain": [
       "<Figure size 640x480 with 2 Axes>"
      ]
     },
     "metadata": {},
     "output_type": "display_data"
    }
   ],
   "source": [
    "le = LabelEncoder()\n",
    "df['Sex'] = le.fit_transform(df['Sex'])\n",
    "df['ChestPainType'] = le.fit_transform(df['ChestPainType'])\n",
    "df['RestingECG'] = le.fit_transform(df['RestingECG'])\n",
    "df['ExerciseAngina'] = le.fit_transform(df['ExerciseAngina'])\n",
    "df['ST_Slope'] = le.fit_transform(df['ST_Slope'])\n",
    "mms = MinMaxScaler() \n",
    "ss = StandardScaler() \n",
    "df['Oldpeak'] = mms.fit_transform(df[['Oldpeak']])\n",
    "df['Age'] = ss.fit_transform(df[['Age']])\n",
    "df['RestingBP'] = ss.fit_transform(df[['RestingBP']])\n",
    "df['Cholesterol'] = ss.fit_transform(df[['Cholesterol']])\n",
    "df['MaxHR'] = ss.fit_transform(df[['MaxHR']])\n",
    "\n",
    "features = df[df.columns.drop(['HeartDisease'])].values\n",
    "target = df['HeartDisease'].values\n",
    "x_train, x_test, y_train, y_test = train_test_split(features, target, test_size = 0.20, random_state = 2)\n",
    "classifier_lr = LogisticRegression(random_state = 24,C=10,penalty= 'l2') \n",
    "classifier_lr.fit(x_train,y_train)\n",
    "prediction = classifier_lr.predict(x_test)\n",
    "print(\"Accuracy : \",'{0:.2%}'.format(accuracy_score(y_test,prediction)))\n",
    "cm = confusion_matrix(y_test,classifier_lr.predict(x_test))\n",
    "names = ['True Neg','False Pos','False Neg','True Pos']\n",
    "counts = [value for value in cm.flatten()]\n",
    "percentages = ['{0:.2%}'.format(value) for value in cm.flatten()/np.sum(cm)]\n",
    "labels = [f'{v1}\\n{v2}\\n{v3}' for v1, v2, v3 in zip(names,counts,percentages)]\n",
    "labels = np.asarray(labels).reshape(2,2)\n",
    "sns.heatmap(cm,annot = labels,fmt ='');\n",
    "\n"
   ]
  },
  {
   "cell_type": "markdown",
   "metadata": {},
   "source": [
    "# On sauvegard notre classifieur"
   ]
  },
  {
   "cell_type": "code",
   "execution_count": 28,
   "metadata": {},
   "outputs": [],
   "source": [
    "with open('model.pkl','wb') as f:\n",
    "    pickle.dump(classifier_lr,f)"
   ]
  },
  {
   "cell_type": "markdown",
   "metadata": {},
   "source": [
    "# On sauvegard notre scaler"
   ]
  },
  {
   "cell_type": "code",
   "execution_count": 41,
   "metadata": {},
   "outputs": [],
   "source": [
    "\n",
    "df = pd.read_csv(\"heart.csv\")\n",
    "\n",
    "le_sex = LabelEncoder().fit(df['Sex'])\n",
    "le_chest_pain = LabelEncoder().fit(df['ChestPainType'])\n",
    "le_resting_ecg = LabelEncoder().fit(df['RestingECG'])\n",
    "le_exercise_angina = LabelEncoder().fit(df['ExerciseAngina'])\n",
    "le_st_slope = LabelEncoder().fit(df['ST_Slope'])\n",
    "\n",
    "mms_oldpeak = MinMaxScaler().fit(df[['Oldpeak']])\n",
    "ss_age = StandardScaler().fit(df[['Age']])\n",
    "ss_resting_bp = StandardScaler().fit(df[['RestingBP']])\n",
    "ss_cholesterol = StandardScaler().fit(df[['Cholesterol']])\n",
    "ss_max_hr = StandardScaler().fit(df[['MaxHR']])\n",
    "\n",
    "with open('encoders_scalers.pkl', 'wb') as file:\n",
    "    pickle.dump({\n",
    "        'le_sex': le_sex,\n",
    "        'le_chest_pain': le_chest_pain,\n",
    "        'le_resting_ecg': le_resting_ecg,\n",
    "        'le_exercise_angina': le_exercise_angina,\n",
    "        'le_st_slope': le_st_slope,\n",
    "        'mms_oldpeak': mms_oldpeak,\n",
    "        'ss_age': ss_age,\n",
    "        'ss_resting_bp': ss_resting_bp,\n",
    "        'ss_cholesterol': ss_cholesterol,\n",
    "        'ss_max_hr': ss_max_hr\n",
    "    }, file)\n"
   ]
  },
  {
   "cell_type": "code",
   "execution_count": null,
   "metadata": {},
   "outputs": [],
   "source": []
  }
 ],
 "metadata": {
  "kernelspec": {
   "display_name": "Python 3",
   "language": "python",
   "name": "python3"
  },
  "language_info": {
   "codemirror_mode": {
    "name": "ipython",
    "version": 3
   },
   "file_extension": ".py",
   "mimetype": "text/x-python",
   "name": "python",
   "nbconvert_exporter": "python",
   "pygments_lexer": "ipython3",
   "version": "3.11.4"
  },
  "orig_nbformat": 4
 },
 "nbformat": 4,
 "nbformat_minor": 2
}
